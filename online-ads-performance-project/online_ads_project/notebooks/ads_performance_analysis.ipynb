{
 "cells": [
  {
   "cell_type": "markdown",
   "id": "cab205ad",
   "metadata": {},
   "source": [
    "# Online Advertising Performance Analysis\n",
    "\n",
    "This notebook analyzes online advertising performance for a 3‑month period (Apr–Jun 2020).\n",
    "It explores trends, calculates key metrics (CPC, RPC, CR, ROI), and answers business questions\n",
    "around **campaigns**, **engagement**, **banner sizes**, and **placements**.\n",
    "\n",
    "> Tip: Replace the sample dataset path with your actual CSV/Excel to re-run this analysis.\n"
   ]
  },
  {
   "cell_type": "code",
   "execution_count": null,
   "id": "3d9946d0",
   "metadata": {},
   "outputs": [],
   "source": [
    "# Imports & Settings\n",
    "import pandas as pd\n",
    "import numpy as np\n",
    "import matplotlib.pyplot as plt\n",
    "\n",
    "pd.set_option(\"display.max_columns\", 100)\n",
    "pd.set_option(\"display.float_format\", lambda x: f\"{x:,.2f}\")\n",
    "\n",
    "# IMPORTANT: charts rule -> matplotlib only, no seaborn; one figure per chart; no explicit colors\n"
   ]
  },
  {
   "cell_type": "code",
   "execution_count": null,
   "id": "ff0895fe",
   "metadata": {},
   "outputs": [],
   "source": [
    "# Load Data\n",
    "# Provide your dataset path if different (CSV with columns described in README).\n",
    "DATA_PATH = r\"/mnt/data/online_ads_project/data/online_ads_sample.csv\"\n",
    "\n",
    "df = pd.read_csv(DATA_PATH, parse_dates=[\"Day\"])\n",
    "print(\"Rows:\", len(df))\n",
    "df.head()\n"
   ]
  },
  {
   "cell_type": "code",
   "execution_count": null,
   "id": "a9648c31",
   "metadata": {},
   "outputs": [],
   "source": [
    "# Feature Engineering\n",
    "df['Clicks'] = df['Clicks'].clip(lower=0)\n",
    "df['Cost'] = df['Cost'].clip(lower=0.0)\n",
    "df['Revenue'] = df['Revenue'].clip(lower=0.0)\n",
    "df['Post Click Conversions'] = df['Post Click Conversions'].clip(lower=0)\n",
    "df['Post Click Sales Amount'] = df['Post Click Sales Amount'].clip(lower=0.0)\n",
    "\n",
    "# Derived metrics\n",
    "df['CPC'] = np.where(df['Clicks']>0, df['Cost'] / df['Clicks'], np.nan)\n",
    "df['RPC'] = np.where(df['Clicks']>0, df['Revenue'] / df['Clicks'], np.nan)\n",
    "df['CR']  = np.where(df['Clicks']>0, df['Post Click Conversions'] / df['Clicks'], np.nan)\n",
    "df['AOV'] = np.where(df['Post Click Conversions']>0, df['Post Click Sales Amount'] / df['Post Click Conversions'], np.nan)\n",
    "df['ROI'] = np.where(df['Cost']>0, (df['Revenue'] - df['Cost']) / df['Cost'], np.nan)\n",
    "\n",
    "# Calendar features\n",
    "df['weekday'] = df['Day'].dt.day_name()\n",
    "df['is_weekend'] = df['weekday'].isin(['Saturday', 'Sunday'])\n",
    "\n",
    "df.describe(include='all')\n"
   ]
  },
  {
   "cell_type": "code",
   "execution_count": null,
   "id": "bb91be27",
   "metadata": {},
   "outputs": [],
   "source": [
    "# Q1: Overall trend in user engagement throughout the period\n",
    "eng_trend = df.groupby(['Day','User Engagement']).size().unstack(fill_value=0)\n",
    "eng_trend_rolling = eng_trend.rolling(7, min_periods=1).mean()\n",
    "\n",
    "eng_trend_rolling.plot(figsize=(9,5), title='User Engagement Volume (7‑day rolling count)')\n",
    "plt.xlabel('Day')\n",
    "plt.ylabel('Count of Records')\n",
    "plt.show()\n",
    "\n",
    "eng_trend.tail(10)\n"
   ]
  },
  {
   "cell_type": "code",
   "execution_count": null,
   "id": "4cc3d3d6",
   "metadata": {},
   "outputs": [],
   "source": [
    "# Q2: How does banner size impact clicks?\n",
    "banner_clicks = df.groupby('Banner')['Clicks'].sum().sort_values(ascending=False)\n",
    "print(banner_clicks)\n",
    "banner_clicks.plot(kind='bar', figsize=(7,4), title='Total Clicks by Banner Size')\n",
    "plt.xlabel('Banner')\n",
    "plt.ylabel('Clicks')\n",
    "plt.show()\n"
   ]
  },
  {
   "cell_type": "code",
   "execution_count": null,
   "id": "8578230a",
   "metadata": {},
   "outputs": [],
   "source": [
    "# Q3: Which placements yielded the highest displays and clicks?\n",
    "place_perf = df.groupby('Placement')[['Displays','Clicks']].sum().sort_values('Displays', ascending=False)\n",
    "place_perf, place_perf.head(10)\n"
   ]
  },
  {
   "cell_type": "code",
   "execution_count": null,
   "id": "3f208b17",
   "metadata": {},
   "outputs": [],
   "source": [
    "# Q4: Correlation between Cost and Revenue\n",
    "corr = df[['Cost','Revenue','Clicks','Displays']].corr()\n",
    "print(corr)\n",
    "\n",
    "plt.figure(figsize=(6,4))\n",
    "plt.scatter(df['Cost'], df['Revenue'])\n",
    "plt.title('Cost vs Revenue')\n",
    "plt.xlabel('Cost (USD)')\n",
    "plt.ylabel('Revenue (USD)')\n",
    "plt.show()\n"
   ]
  },
  {
   "cell_type": "code",
   "execution_count": null,
   "id": "d7729510",
   "metadata": {},
   "outputs": [],
   "source": [
    "# Q5: Average revenue per click (RPC)\n",
    "avg_rpc = df['RPC'].mean(skipna=True)\n",
    "print(f\"Average RPC: ${avg_rpc:0.2f}\")\n"
   ]
  },
  {
   "cell_type": "code",
   "execution_count": null,
   "id": "bd5ef607",
   "metadata": {},
   "outputs": [],
   "source": [
    "# Q6: Campaigns with highest conversion rates (CR)\n",
    "camp_cr = df.groupby('Campaign').apply(lambda g: (g['Post Click Conversions'].sum() / g['Clicks'].sum()) if g['Clicks'].sum()>0 else np.nan)\n",
    "camp_cr = camp_cr.sort_values(ascending=False)\n",
    "camp_cr\n"
   ]
  },
  {
   "cell_type": "code",
   "execution_count": null,
   "id": "a106721a",
   "metadata": {},
   "outputs": [],
   "source": [
    "# Q7: Trends in post-click sales amounts over time\n",
    "daily_sales = df.groupby('Day')['Post Click Sales Amount'].sum()\n",
    "daily_sales.rolling(7, min_periods=1).mean().plot(figsize=(9,4), title='Post-Click Sales Amount (7‑day rolling sum)')\n",
    "plt.xlabel('Day'); plt.ylabel('Sales Amount (USD)'); plt.show()\n",
    "daily_sales.tail(10)\n"
   ]
  },
  {
   "cell_type": "code",
   "execution_count": null,
   "id": "62a1355e",
   "metadata": {},
   "outputs": [],
   "source": [
    "# Q8: How engagement varies across banner sizes\n",
    "eng_banner = df.groupby(['Banner','User Engagement'])[['Clicks','Post Click Conversions']].sum()\n",
    "eng_banner['CR'] = np.where(eng_banner['Clicks']>0, eng_banner['Post Click Conversions']/eng_banner['Clicks'], np.nan)\n",
    "eng_banner.sort_values('CR', ascending=False)\n"
   ]
  },
  {
   "cell_type": "code",
   "execution_count": null,
   "id": "b0104668",
   "metadata": {},
   "outputs": [],
   "source": [
    "# Q9: Placement types with highest post-click conversion rates\n",
    "place_cr = df.groupby('Placement').apply(lambda g: (g['Post Click Conversions'].sum()/g['Clicks'].sum()) if g['Clicks'].sum()>0 else np.nan)\n",
    "place_cr.sort_values(ascending=False)\n"
   ]
  },
  {
   "cell_type": "code",
   "execution_count": null,
   "id": "92ffbe1e",
   "metadata": {},
   "outputs": [],
   "source": [
    "# Q10: Seasonal patterns or fluctuations (weekday vs weekend)\n",
    "dow = df.groupby('weekday')[['Displays','Clicks']].sum().reindex([\n",
    "    'Monday','Tuesday','Wednesday','Thursday','Friday','Saturday','Sunday'\n",
    "])\n",
    "dow.plot(kind='bar', figsize=(9,4), title='Displays & Clicks by Day of Week')\n",
    "plt.xlabel('Day of Week'); plt.ylabel('Totals'); plt.show()\n",
    "dow\n"
   ]
  },
  {
   "cell_type": "code",
   "execution_count": null,
   "id": "ca9ed7de",
   "metadata": {},
   "outputs": [],
   "source": [
    "# Q11: Is there a correlation between engagement levels and revenue?\n",
    "# We'll compute average RPC and CR by engagement, and total revenue share.\n",
    "eng_rev = df.groupby('User Engagement').agg(\n",
    "    total_revenue=('Revenue','sum'),\n",
    "    total_clicks=('Clicks','sum'),\n",
    "    rpc=('RPC','mean'),\n",
    "    cr=('CR','mean')\n",
    ")\n",
    "eng_rev['revenue_share'] = eng_rev['total_revenue'] / eng_rev['total_revenue'].sum()\n",
    "eng_rev.sort_values('total_revenue', ascending=False)\n"
   ]
  },
  {
   "cell_type": "code",
   "execution_count": null,
   "id": "1f556d85",
   "metadata": {},
   "outputs": [],
   "source": [
    "# Q12: Outliers detection using Z-scores\n",
    "from scipy.stats import zscore\n",
    "\n",
    "num_cols = ['Cost','Clicks','Revenue']\n",
    "z = df[num_cols].apply(lambda s: (s - s.mean())/s.std(ddof=0))\n",
    "outliers = df[(z.abs() > 3).any(axis=1)][['Day','Campaign','User Engagement','Banner','Placement'] + num_cols]\n",
    "print(f\"Outlier rows: {len(outliers)}\")\n",
    "outliers.head(20)\n"
   ]
  },
  {
   "cell_type": "code",
   "execution_count": null,
   "id": "0d97d8e2",
   "metadata": {},
   "outputs": [],
   "source": [
    "# Q13: Effectiveness by ad size and placement (ROI)\n",
    "eff = df.groupby(['Banner','Placement']).agg(\n",
    "    cost=('Cost','sum'),\n",
    "    revenue=('Revenue','sum'),\n",
    "    clicks=('Clicks','sum'),\n",
    "    conversions=('Post Click Conversions','sum')\n",
    ")\n",
    "eff['ROI'] = np.where(eff['cost']>0, (eff['revenue']-eff['cost'])/eff['cost'], np.nan)\n",
    "eff['CR'] = np.where(eff['clicks']>0, eff['conversions']/eff['clicks'], np.nan)\n",
    "eff.sort_values('ROI', ascending=False).head(15)\n"
   ]
  },
  {
   "cell_type": "code",
   "execution_count": null,
   "id": "14d475b4",
   "metadata": {},
   "outputs": [],
   "source": [
    "# Q14: Consistent outperformers (ROI mean & variability by Campaign/Banner)\n",
    "group = df.groupby(['Campaign','Banner']).agg(roi_mean=('ROI','mean'), roi_std=('ROI','std'), n=('ROI','count'))\n",
    "group = group[group['n']>=10].sort_values('roi_mean', ascending=False)\n",
    "group.head(20)\n"
   ]
  },
  {
   "cell_type": "code",
   "execution_count": null,
   "id": "4bae37bb",
   "metadata": {},
   "outputs": [],
   "source": [
    "# Q15: Distribution of post-click conversions across placements\n",
    "conv_dist = df.groupby('Placement')['Post Click Conversions'].sum().sort_values(ascending=False)\n",
    "conv_dist.plot(kind='bar', figsize=(7,4), title='Conversions by Placement')\n",
    "plt.xlabel('Placement'); plt.ylabel('Conversions'); plt.show()\n",
    "conv_dist\n"
   ]
  },
  {
   "cell_type": "code",
   "execution_count": null,
   "id": "f6fd2645",
   "metadata": {},
   "outputs": [],
   "source": [
    "# Q16: Engagement differences weekdays vs weekends\n",
    "ew = df.groupby(['is_weekend','User Engagement'])['Clicks'].sum().unstack(fill_value=0)\n",
    "ew\n"
   ]
  },
  {
   "cell_type": "code",
   "execution_count": null,
   "id": "8b4ff444",
   "metadata": {},
   "outputs": [],
   "source": [
    "# Q17: CPC variation across campaigns & banners\n",
    "cpc_viz = df.groupby(['Campaign','Banner'])['CPC'].mean().unstack()\n",
    "cpc_viz\n"
   ]
  },
  {
   "cell_type": "code",
   "execution_count": null,
   "id": "3ebb2426",
   "metadata": {},
   "outputs": [],
   "source": [
    "# Q18: Cost per conversion (lower is better)\n",
    "df['CostPerConversion'] = np.where(df['Post Click Conversions']>0, df['Cost']/df['Post Click Conversions'], np.nan)\n",
    "cpcv = df.groupby(['Campaign','Placement'])['CostPerConversion'].mean().sort_values()\n",
    "cpcv.head(20)\n"
   ]
  },
  {
   "cell_type": "code",
   "execution_count": null,
   "id": "ed653d6d",
   "metadata": {},
   "outputs": [],
   "source": [
    "# Q19: Trends in conversion rates by day of week\n",
    "dow_cr = df.groupby('weekday').apply(lambda g: (g['Post Click Conversions'].sum()/g['Clicks'].sum()) if g['Clicks'].sum()>0 else np.nan)\n",
    "dow_cr = dow_cr.reindex(['Monday','Tuesday','Wednesday','Thursday','Friday','Saturday','Sunday'])\n",
    "dow_cr.plot(kind='bar', figsize=(7,4), title='Conversion Rate by Day of Week')\n",
    "plt.xlabel('Day'); plt.ylabel('CR'); plt.show()\n",
    "dow_cr\n"
   ]
  },
  {
   "cell_type": "code",
   "execution_count": null,
   "id": "0ab928fc",
   "metadata": {},
   "outputs": [],
   "source": [
    "# Q20: Effectiveness across engagement types (post-click conversions)\n",
    "eng_eff = df.groupby('User Engagement').agg(\n",
    "    clicks=('Clicks','sum'),\n",
    "    conversions=('Post Click Conversions','sum'),\n",
    "    cr=lambda g: g['Post Click Conversions'].sum()/g['Clicks'].sum()\n",
    ").sort_values('cr', ascending=False)\n",
    "eng_eff\n"
   ]
  },
  {
   "cell_type": "code",
   "execution_count": null,
   "id": "6b9932a8",
   "metadata": {},
   "outputs": [],
   "source": [
    "# Summary KPIs\n",
    "summary = {\n",
    "    'Total Displays': int(df['Displays'].sum()),\n",
    "    'Total Clicks': int(df['Clicks'].sum()),\n",
    "    'Total Cost ($)': float(df['Cost'].sum()),\n",
    "    'Total Revenue ($)': float(df['Revenue'].sum()),\n",
    "    'Total Conversions': int(df['Post Click Conversions'].sum()),\n",
    "    'Avg CPC ($)': float(df['CPC'].mean(skipna=True)),\n",
    "    'Avg RPC ($)': float(df['RPC'].mean(skipna=True)),\n",
    "    'Overall CR': float(df['Post Click Conversions'].sum()/df['Clicks'].sum()) if df['Clicks'].sum()>0 else np.nan,\n",
    "    'Overall ROI': float((df['Revenue'].sum()-df['Cost'].sum())/df['Cost'].sum()) if df['Cost'].sum()>0 else np.nan\n",
    "}\n",
    "summary\n"
   ]
  }
 ],
 "metadata": {},
 "nbformat": 4,
 "nbformat_minor": 5
}
